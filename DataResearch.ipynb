{
 "cells": [
  {
   "cell_type": "code",
   "execution_count": 1,
   "id": "291e4f5d-1b99-4a9b-afe0-ca3f7297e5b3",
   "metadata": {},
   "outputs": [],
   "source": [
    "import numpy as np\n",
    "import pandas as pd\n",
    "from sklearn.metrics import roc_auc_score\n",
    "from sklearn.linear_model import RidgeClassifier\n",
    "from sklearn.linear_model import RidgeClassifierCV\n",
    "from sklearn.linear_model import LogisticRegression\n",
    "from sklearn.linear_model import LogisticRegressionCV"
   ]
  },
  {
   "cell_type": "code",
   "execution_count": 2,
   "id": "7ad1a74c-ffbd-440e-ada9-e9876477c8a0",
   "metadata": {},
   "outputs": [
    {
     "data": {
      "text/plain": [
       "(43805, 18)"
      ]
     },
     "execution_count": 2,
     "metadata": {},
     "output_type": "execute_result"
    }
   ],
   "source": [
    "data = pd.read_csv('data.csv')\n",
    "data = data.dropna()\n",
    "data.shape"
   ]
  },
  {
   "cell_type": "code",
   "execution_count": 3,
   "id": "3ed62299-85f3-4d57-bfb7-b4456e2e9a68",
   "metadata": {},
   "outputs": [],
   "source": [
    "X = data.drop(['day', 'user_id', 'target_14d'], axis=1)\n",
    "Y = data['target_14d']"
   ]
  },
  {
   "cell_type": "code",
   "execution_count": 4,
   "id": "ec8021ac-4240-41e4-8e67-14f039924452",
   "metadata": {},
   "outputs": [
    {
     "data": {
      "text/plain": [
       "Index(['month_day', 'month', 'week_day', 'days_offline', 'online_days',\n",
       "       'avg_online', 'offline_days', 'avg_ofline', 'avg_submits_14d',\n",
       "       'success_rate_14d', 'solved_total', 'avg_level_task',\n",
       "       'max_level_task_solved', 'day_score_14', 'total_score'],\n",
       "      dtype='object')"
      ]
     },
     "execution_count": 4,
     "metadata": {},
     "output_type": "execute_result"
    }
   ],
   "source": [
    "X.columns"
   ]
  },
  {
   "cell_type": "code",
   "execution_count": 5,
   "id": "35a0eabb-f8ad-4649-b2d7-8dcba7b5718c",
   "metadata": {},
   "outputs": [
    {
     "data": {
      "text/plain": [
       "0.9784042917475174"
      ]
     },
     "execution_count": 5,
     "metadata": {},
     "output_type": "execute_result"
    }
   ],
   "source": [
    "model_1 = RidgeClassifier()\n",
    "model_1.fit(X, Y)\n",
    "model_1.score(X, Y)"
   ]
  },
  {
   "cell_type": "code",
   "execution_count": 6,
   "id": "e0bf1d30-93d0-4318-837d-2d3d59aa4524",
   "metadata": {},
   "outputs": [
    {
     "data": {
      "text/plain": [
       "0.49998833411105925"
      ]
     },
     "execution_count": 6,
     "metadata": {},
     "output_type": "execute_result"
    }
   ],
   "source": [
    "roc_auc_score(Y, model_1.predict(X))"
   ]
  },
  {
   "cell_type": "code",
   "execution_count": 7,
   "id": "058971a9-9efd-4dd5-ac6d-f6b6dd4f5b30",
   "metadata": {},
   "outputs": [
    {
     "data": {
      "text/plain": [
       "(array([[-2.91829847e-02, -1.53668421e-01, -1.23393257e-03,\n",
       "          1.53229369e-02,  6.19170696e-04, -1.02946525e-01,\n",
       "         -7.79926116e-05,  1.02946525e-01, -2.98980391e-02,\n",
       "         -5.39190214e-02,  7.52138335e-03,  1.32047867e-03,\n",
       "          4.73424237e-04,  1.53270259e-03, -7.22566134e-03]]),\n",
       " array([-0.86370608]))"
      ]
     },
     "execution_count": 7,
     "metadata": {},
     "output_type": "execute_result"
    }
   ],
   "source": [
    "model_1.coef_, model_1.intercept_"
   ]
  },
  {
   "cell_type": "code",
   "execution_count": 8,
   "id": "8b3ad4b7-aae9-4a12-9c9e-600430f8bb46",
   "metadata": {},
   "outputs": [
    {
     "data": {
      "text/plain": [
       "0.9784042917475174"
      ]
     },
     "execution_count": 8,
     "metadata": {},
     "output_type": "execute_result"
    }
   ],
   "source": [
    "model_2 = RidgeClassifierCV(cv=5)\n",
    "model_2.fit(X, Y)\n",
    "model_2.score(X, Y)"
   ]
  },
  {
   "cell_type": "code",
   "execution_count": 9,
   "id": "8199e5b8-db17-41f9-9191-7ee756cd8b18",
   "metadata": {},
   "outputs": [
    {
     "data": {
      "text/plain": [
       "0.49998833411105925"
      ]
     },
     "execution_count": 9,
     "metadata": {},
     "output_type": "execute_result"
    }
   ],
   "source": [
    "roc_auc_score(Y, model_2.predict(X))"
   ]
  },
  {
   "cell_type": "code",
   "execution_count": 10,
   "id": "b400e976-01e2-4417-b9f6-c8a4e355e788",
   "metadata": {},
   "outputs": [
    {
     "data": {
      "text/plain": [
       "(array([[-3.58636430e-01, -1.16540001e+00, -1.14264636e-03,\n",
       "          1.53186738e-02,  3.92779920e-03, -1.03075372e-01,\n",
       "          3.22734634e-03,  1.03075372e-01, -2.99309313e-02,\n",
       "         -5.39685246e-02,  7.50601520e-03,  1.31731600e-03,\n",
       "          4.75400439e-04,  1.53687224e-03, -7.21024837e-03]]),\n",
       " array([-0.18685184]))"
      ]
     },
     "execution_count": 10,
     "metadata": {},
     "output_type": "execute_result"
    }
   ],
   "source": [
    "model_2.coef_, model_2.intercept_"
   ]
  },
  {
   "cell_type": "code",
   "execution_count": null,
   "id": "a877ef2d-b678-490d-8aec-b57e10c01642",
   "metadata": {},
   "outputs": [],
   "source": []
  },
  {
   "cell_type": "code",
   "execution_count": 11,
   "id": "688c904e-730b-4844-98cf-55f363593767",
   "metadata": {},
   "outputs": [
    {
     "name": "stderr",
     "output_type": "stream",
     "text": [
      "/opt/conda/lib/python3.8/site-packages/sklearn/linear_model/_logistic.py:444: ConvergenceWarning: lbfgs failed to converge (status=1):\n",
      "STOP: TOTAL NO. of ITERATIONS REACHED LIMIT.\n",
      "\n",
      "Increase the number of iterations (max_iter) or scale the data as shown in:\n",
      "    https://scikit-learn.org/stable/modules/preprocessing.html\n",
      "Please also refer to the documentation for alternative solver options:\n",
      "    https://scikit-learn.org/stable/modules/linear_model.html#logistic-regression\n",
      "  n_iter_i = _check_optimize_result(\n"
     ]
    },
    {
     "data": {
      "text/plain": [
       "0.9784271201917589"
      ]
     },
     "execution_count": 11,
     "metadata": {},
     "output_type": "execute_result"
    }
   ],
   "source": [
    "model_3 = LogisticRegression()\n",
    "model_3.fit(X, Y)\n",
    "model_3.score(X, Y)"
   ]
  },
  {
   "cell_type": "code",
   "execution_count": 12,
   "id": "54b19eeb-a457-478e-b808-a543c958f96f",
   "metadata": {},
   "outputs": [
    {
     "data": {
      "text/plain": [
       "0.5"
      ]
     },
     "execution_count": 12,
     "metadata": {},
     "output_type": "execute_result"
    }
   ],
   "source": [
    "roc_auc_score(Y, model_3.predict(X))"
   ]
  },
  {
   "cell_type": "code",
   "execution_count": 13,
   "id": "06c1e013-fee5-4be2-bc76-3e19c1863586",
   "metadata": {},
   "outputs": [
    {
     "data": {
      "text/plain": [
       "(array([[ 0.06534785, -0.5257531 ,  0.05685462,  0.01856204, -0.07516209,\n",
       "         -0.64478201,  0.0026427 , -0.09769561, -2.47956163, -0.41700846,\n",
       "         -0.20706006, -0.29862989, -0.2011549 ,  0.08495633,  0.18994795]]),\n",
       " array([-0.79502429]))"
      ]
     },
     "execution_count": 13,
     "metadata": {},
     "output_type": "execute_result"
    }
   ],
   "source": [
    "model_3.coef_, model_3.intercept_"
   ]
  },
  {
   "cell_type": "code",
   "execution_count": null,
   "id": "beeb1e3d-7cc6-4896-b24b-f473c12c4408",
   "metadata": {},
   "outputs": [],
   "source": []
  },
  {
   "cell_type": "code",
   "execution_count": 14,
   "id": "bc78f846-d29e-497d-a6d1-0a1fb0b81d1f",
   "metadata": {},
   "outputs": [
    {
     "name": "stderr",
     "output_type": "stream",
     "text": [
      "/opt/conda/lib/python3.8/site-packages/sklearn/linear_model/_logistic.py:444: ConvergenceWarning: lbfgs failed to converge (status=1):\n",
      "STOP: TOTAL NO. of ITERATIONS REACHED LIMIT.\n",
      "\n",
      "Increase the number of iterations (max_iter) or scale the data as shown in:\n",
      "    https://scikit-learn.org/stable/modules/preprocessing.html\n",
      "Please also refer to the documentation for alternative solver options:\n",
      "    https://scikit-learn.org/stable/modules/linear_model.html#logistic-regression\n",
      "  n_iter_i = _check_optimize_result(\n",
      "/opt/conda/lib/python3.8/site-packages/sklearn/linear_model/_logistic.py:444: ConvergenceWarning: lbfgs failed to converge (status=1):\n",
      "STOP: TOTAL NO. of ITERATIONS REACHED LIMIT.\n",
      "\n",
      "Increase the number of iterations (max_iter) or scale the data as shown in:\n",
      "    https://scikit-learn.org/stable/modules/preprocessing.html\n",
      "Please also refer to the documentation for alternative solver options:\n",
      "    https://scikit-learn.org/stable/modules/linear_model.html#logistic-regression\n",
      "  n_iter_i = _check_optimize_result(\n",
      "/opt/conda/lib/python3.8/site-packages/sklearn/linear_model/_logistic.py:444: ConvergenceWarning: lbfgs failed to converge (status=1):\n",
      "STOP: TOTAL NO. of ITERATIONS REACHED LIMIT.\n",
      "\n",
      "Increase the number of iterations (max_iter) or scale the data as shown in:\n",
      "    https://scikit-learn.org/stable/modules/preprocessing.html\n",
      "Please also refer to the documentation for alternative solver options:\n",
      "    https://scikit-learn.org/stable/modules/linear_model.html#logistic-regression\n",
      "  n_iter_i = _check_optimize_result(\n",
      "/opt/conda/lib/python3.8/site-packages/sklearn/linear_model/_logistic.py:444: ConvergenceWarning: lbfgs failed to converge (status=1):\n",
      "STOP: TOTAL NO. of ITERATIONS REACHED LIMIT.\n",
      "\n",
      "Increase the number of iterations (max_iter) or scale the data as shown in:\n",
      "    https://scikit-learn.org/stable/modules/preprocessing.html\n",
      "Please also refer to the documentation for alternative solver options:\n",
      "    https://scikit-learn.org/stable/modules/linear_model.html#logistic-regression\n",
      "  n_iter_i = _check_optimize_result(\n",
      "/opt/conda/lib/python3.8/site-packages/sklearn/linear_model/_logistic.py:444: ConvergenceWarning: lbfgs failed to converge (status=1):\n",
      "STOP: TOTAL NO. of ITERATIONS REACHED LIMIT.\n",
      "\n",
      "Increase the number of iterations (max_iter) or scale the data as shown in:\n",
      "    https://scikit-learn.org/stable/modules/preprocessing.html\n",
      "Please also refer to the documentation for alternative solver options:\n",
      "    https://scikit-learn.org/stable/modules/linear_model.html#logistic-regression\n",
      "  n_iter_i = _check_optimize_result(\n",
      "/opt/conda/lib/python3.8/site-packages/sklearn/linear_model/_logistic.py:444: ConvergenceWarning: lbfgs failed to converge (status=1):\n",
      "STOP: TOTAL NO. of ITERATIONS REACHED LIMIT.\n",
      "\n",
      "Increase the number of iterations (max_iter) or scale the data as shown in:\n",
      "    https://scikit-learn.org/stable/modules/preprocessing.html\n",
      "Please also refer to the documentation for alternative solver options:\n",
      "    https://scikit-learn.org/stable/modules/linear_model.html#logistic-regression\n",
      "  n_iter_i = _check_optimize_result(\n"
     ]
    },
    {
     "data": {
      "text/plain": [
       "0.9781531788608606"
      ]
     },
     "execution_count": 14,
     "metadata": {},
     "output_type": "execute_result"
    }
   ],
   "source": [
    "model_4 = LogisticRegressionCV(cv=5, random_state=42)\n",
    "model_4.fit(X, Y)\n",
    "model_4.score(X, Y)"
   ]
  },
  {
   "cell_type": "code",
   "execution_count": 15,
   "id": "ac0104df-55f0-4544-b9ea-0f4679052ae7",
   "metadata": {},
   "outputs": [
    {
     "data": {
      "text/plain": [
       "0.49986000933271113"
      ]
     },
     "execution_count": 15,
     "metadata": {},
     "output_type": "execute_result"
    }
   ],
   "source": [
    "roc_auc_score(Y, model_4.predict(X))"
   ]
  },
  {
   "cell_type": "code",
   "execution_count": 16,
   "id": "d8cb55bf-b165-4cd6-bbf9-df200fc94624",
   "metadata": {},
   "outputs": [
    {
     "data": {
      "text/plain": [
       "(array([[ 0.11727582, -0.0029095 , -0.01244385,  0.03404959, -0.08546996,\n",
       "         -0.27282761,  0.00177018,  0.33178668, -1.38421778, -0.01073749,\n",
       "         -0.10774917, -0.28669463, -0.19122497, -0.03297915,  0.09828158]]),\n",
       " array([-2.00454093]))"
      ]
     },
     "execution_count": 16,
     "metadata": {},
     "output_type": "execute_result"
    }
   ],
   "source": [
    "model_4.coef_, model_4.intercept_"
   ]
  },
  {
   "cell_type": "code",
   "execution_count": null,
   "id": "1be8815d-45b0-4737-b651-afeab128e4dd",
   "metadata": {},
   "outputs": [],
   "source": []
  },
  {
   "cell_type": "raw",
   "id": "2d0b969d-32b5-4833-9c11-c4886d14d4da",
   "metadata": {},
   "source": [
    "SELECT date AS day, user_id,\n",
    "       EXTRACT(day from date) / 100 AS month_day,\n",
    "       EXTRACT(month from date) / 10 AS month,\n",
    "       DAYOFWEEK(date) / 10 AS week_day,\n",
    "       CASE WHEN last_day_online < (SELECT MIN(timestamp::DATE)\n",
    "                                    FROM default.churn_submits) THEN NULL\n",
    "            ELSE date - last_day_online\n",
    "       END AS days_offline,\n",
    "       online_days, avg_online, offline_days, avg_ofline,\n",
    "       submits_14d / 14 AS avg_submits_14d,\n",
    "       CASE WHEN submits_14d = 0 THEN 0\n",
    "            ELSE success_14d / submits_14d\n",
    "       END AS success_rate_14d,\n",
    "       solved_total,\n",
    "       avg_level_task,\n",
    "       max_level_task_solved,\n",
    "       day_score_14,\n",
    "       total_score,\n",
    "       CASE WHEN active_14d = 0 THEN 1\n",
    "            ELSE 0\n",
    "       END AS target_14d\n",
    "FROM (SELECT date, user_id,\n",
    "             MAX(date) FILTER (WHERE n_submits <> 0) OVER (PARTITION BY user_id ORDER BY date) AS last_day_online,\n",
    "             SUM(n_submits) OVER (PARTITION BY user_id ORDER BY date ROWS BETWEEN 13 PRECEDING AND CURRENT ROW) AS submits_14d,\n",
    "             SUM(n_solved) OVER (PARTITION BY user_id ORDER BY date ROWS BETWEEN 13 PRECEDING AND CURRENT ROW) AS success_14d,\n",
    "             SUM(n_solved) OVER (PARTITION BY user_id ORDER BY date) AS solved_total,\n",
    "             SUM(n_submits) OVER (PARTITION BY user_id ORDER BY date ROWS BETWEEN 1 FOLLOWING AND 14 FOLLOWING) AS active_14d,\n",
    "             avg_level_task, max_level_task_solved,\n",
    "             SUM(day_score) OVER (PARTITION BY user_id ORDER BY date ROWS BETWEEN 13 PRECEDING AND CURRENT ROW) AS day_score_14,\n",
    "             SUM(day_score) OVER (PARTITION BY user_id ORDER BY date) AS total_score,\n",
    "             COUNT(on) FILTER (WHERE on = 1) OVER (PARTITION BY user_id ORDER BY date) AS online_days,\n",
    "             COUNT(off) FILTER (WHERE off = 1) OVER (PARTITION BY user_id ORDER BY date) AS offline_days,\n",
    "             AVG(on) OVER (PARTITION BY user_id ORDER BY date) AS avg_online,\n",
    "             AVG(off) OVER (PARTITION BY user_id ORDER BY date) AS avg_ofline\n",
    "      FROM (SELECT user_id, date, n_submits, n_tasks, n_solved, avg_level_task, max_level_task_solved, day_score, on, 1 - on AS off\n",
    "            FROM (SELECT user_id, date\n",
    "                  FROM (SELECT DISTINCT user_id AS user_id\n",
    "                        FROM default.churn_submits) AS t1\n",
    "                  CROSS JOIN (SELECT DISTINCT timestamp::DATE AS date\n",
    "                              FROM default.churn_submits) AS t2) AS t3\n",
    "            LEFT JOIN (SELECT user_id, date,\n",
    "                              COUNT(submit) AS n_submits,\n",
    "                              COUNT(DISTINCT task_id) AS n_tasks,\n",
    "                              COUNT(is_solved) FILTER (WHERE is_solved = True) AS n_solved,\n",
    "                              AVG(task_level) AS avg_level_task,\n",
    "                              MAX(task_level) FILTER (WHERE is_solved = True) AS max_level_task_solved,\n",
    "                              SUM(score) FILTER (WHERE is_solved = True) AS day_score,\n",
    "                              1 AS on\n",
    "                       FROM (SELECT submit_id, timestamp::DATE AS date, user_id, submit, score, is_solved, task_id, task_level, task_tags, task_steps, task_min_score\n",
    "                             FROM default.churn_submits AS t4\n",
    "                             JOIN default.churn_tasks AS t5 ON t4.task_id = t5.task_id) AS t6\n",
    "                             GROUP BY user_id, date) AS t7\n",
    "            ON t3.user_id = t7.user_id AND t3.date = t7.date) AS t8) AS t9\n",
    "--WHERE day <= '2022-11-05'\n",
    "ORDER BY user_id, day"
   ]
  }
 ],
 "metadata": {
  "kernelspec": {
   "display_name": "Python 3 (ipykernel)",
   "language": "python",
   "name": "python3"
  },
  "language_info": {
   "codemirror_mode": {
    "name": "ipython",
    "version": 3
   },
   "file_extension": ".py",
   "mimetype": "text/x-python",
   "name": "python",
   "nbconvert_exporter": "python",
   "pygments_lexer": "ipython3",
   "version": "3.8.10"
  }
 },
 "nbformat": 4,
 "nbformat_minor": 5
}
